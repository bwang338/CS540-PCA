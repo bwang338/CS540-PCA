{
 "cells": [
  {
   "cell_type": "code",
   "execution_count": 33,
   "id": "8d9685e1-ae8e-4813-9f19-4a63281ea667",
   "metadata": {},
   "outputs": [],
   "source": [
    "from scipy.linalg import eigh\n",
    "import numpy as np\n",
    "import matplotlib.pyplot as plt\n",
    "\n",
    "\n",
    "def load_and_center_dataset(filename):\n",
    "    # TODO: add your code here\n",
    "    x = np.load(filename)\n",
    "    np.mean(x, axis=0)\n",
    "    x = x - np.mean(x, axis=0)\n",
    "    return x\n",
    "\n",
    "def get_covariance(dataset):\n",
    "    # TODO: add your code here\n",
    "    x = dataset\n",
    "    np.transpose(x)\n",
    "    np.dot(x, np.transpose(x))\n",
    "    np.dot(np.transpose(x), x)\n",
    "    return x\n",
    "    \n",
    "def get_eig(S, m):\n",
    "    # TODO: add your code here\n",
    "    \n",
    "    return\n",
    "    \n",
    "def get_eig_perc(S, perc):\n",
    "    # TODO: add your code here\n",
    "    return\n",
    "    \n",
    "def project_image(img, U):\n",
    "    # TODO: add your code here\n",
    "    return\n",
    "\n",
    "def display_image(orig, proj):\n",
    "    # TODO: add your code here\n",
    "    return"
   ]
  },
  {
   "cell_type": "code",
   "execution_count": 32,
   "id": "48099137-deb2-46c0-a20e-ac74aa47e71e",
   "metadata": {},
   "outputs": [
    {
     "data": {
      "text/plain": [
       "-8.315174931741023e-17"
      ]
     },
     "execution_count": 32,
     "metadata": {},
     "output_type": "execute_result"
    }
   ],
   "source": [
    "x = load_and_center_dataset('YaleB_32x32.npy')\n",
    "len(x)\n",
    "len(x[0])\n",
    "np.average(x)"
   ]
  },
  {
   "cell_type": "code",
   "execution_count": null,
   "id": "7952bb6c-0eeb-42fd-895c-30660bfcbf4d",
   "metadata": {},
   "outputs": [],
   "source": []
  },
  {
   "cell_type": "code",
   "execution_count": null,
   "id": "2b999c00-9775-4ffd-847d-3f2b1d635153",
   "metadata": {},
   "outputs": [],
   "source": []
  }
 ],
 "metadata": {
  "kernelspec": {
   "display_name": "Python 3",
   "language": "python",
   "name": "python3"
  },
  "language_info": {
   "codemirror_mode": {
    "name": "ipython",
    "version": 3
   },
   "file_extension": ".py",
   "mimetype": "text/x-python",
   "name": "python",
   "nbconvert_exporter": "python",
   "pygments_lexer": "ipython3",
   "version": "3.8.8"
  }
 },
 "nbformat": 4,
 "nbformat_minor": 5
}
